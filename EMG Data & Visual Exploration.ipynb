{
 "cells": [
  {
   "cell_type": "markdown",
   "metadata": {},
   "source": [
    "# EMG Data & Visual Exploration (NB, GM, SVM, K-Means)\n",
    "\n",
    "In this notebook we explore the sEMG dataset for different hand gestures. We perform the following steps:\n",
    "\n",
    "* Preprocess and clean up our dataset\n",
    "* Leverage signal processing to smooth out the dataset\n",
    "* Perform a variety of classification techniques"
   ]
  },
  {
   "cell_type": "code",
   "execution_count": 3,
   "metadata": {},
   "outputs": [],
   "source": [
    "import random\n",
    "\n",
    "import numpy as np\n",
    "import pandas as pd\n",
    "import matplotlib.pyplot as plt\n",
    "\n",
    "import scipy.io\n",
    "import scipy\n",
    "from scipy import signal\n",
    "\n",
    "from sklearn.model_selection import train_test_split\n",
    "from sklearn.svm import SVC\n",
    "from sklearn.preprocessing import StandardScaler\n",
    "from sklearn.pipeline import make_pipeline\n",
    "from sklearn.cluster import KMeans\n",
    "from sklearn.model_selection import cross_validate\n",
    "from sklearn.model_selection import GridSearchCV\n",
    "from sklearn.decomposition import PCA"
   ]
  },
  {
   "cell_type": "code",
   "execution_count": 4,
   "metadata": {},
   "outputs": [],
   "source": [
    "\"\"\" Define schema of datasets\n",
    "\"\"\"\n",
    "\n",
    "DATABASE = {\n",
    "    'Database 1': ['female_1',\n",
    "                  'female_2',\n",
    "                  'female_3',\n",
    "                  'male_1',\n",
    "                  'male_2'],\n",
    "    'Database 2': ['male_day_1',\n",
    "                  'male_day_2',\n",
    "                  'male_day_3']\n",
    "}\n",
    "\n",
    "COLUMNS = ['cyl_ch1', \n",
    "            'cyl_ch2', \n",
    "            'hook_ch1', \n",
    "            'hook_ch2', \n",
    "            'tip_ch1', \n",
    "            'tip_ch2', \n",
    "            'palm_ch1', \n",
    "            'palm_ch2', \n",
    "            'spher_ch1', \n",
    "            'spher_ch2', \n",
    "            'lat_ch1', \n",
    "            'lat_ch2']\n",
    "\n",
    "LABELS = [\n",
    "    'Spherical',\n",
    "    'Tip',\n",
    "    'Palmar',\n",
    "    'Lateral',\n",
    "    'Cylindrical',\n",
    "    'Hook'\n",
    "]\n",
    "\n",
    "COL_MAPPINGS = {\n",
    "            'cyl_ch1': 'Cylindrical', \n",
    "            'cyl_ch2': 'Cylindrical', \n",
    "            'hook_ch1': 'Hook', \n",
    "            'hook_ch2': 'Hook', \n",
    "            'tip_ch1': 'Tip', \n",
    "            'tip_ch2': 'Tip', \n",
    "            'palm_ch1': 'Palmar', \n",
    "            'palm_ch2': 'Palmar', \n",
    "            'spher_ch1': 'Spherical', \n",
    "            'spher_ch2': 'Spherical', \n",
    "            'lat_ch1': 'Lateral', \n",
    "            'lat_ch2': 'Lateral'\n",
    "}"
   ]
  },
  {
   "cell_type": "code",
   "execution_count": 5,
   "metadata": {},
   "outputs": [
    {
     "name": "stdout",
     "output_type": "stream",
     "text": [
      "Dimensions (1800, 3002)\n"
     ]
    },
    {
     "data": {
      "text/html": [
       "<div>\n",
       "<style scoped>\n",
       "    .dataframe tbody tr th:only-of-type {\n",
       "        vertical-align: middle;\n",
       "    }\n",
       "\n",
       "    .dataframe tbody tr th {\n",
       "        vertical-align: top;\n",
       "    }\n",
       "\n",
       "    .dataframe thead th {\n",
       "        text-align: right;\n",
       "    }\n",
       "</style>\n",
       "<table border=\"1\" class=\"dataframe\">\n",
       "  <thead>\n",
       "    <tr style=\"text-align: right;\">\n",
       "      <th></th>\n",
       "      <th>0</th>\n",
       "      <th>1</th>\n",
       "      <th>2</th>\n",
       "      <th>3</th>\n",
       "      <th>4</th>\n",
       "      <th>5</th>\n",
       "      <th>6</th>\n",
       "      <th>7</th>\n",
       "      <th>8</th>\n",
       "      <th>9</th>\n",
       "      <th>...</th>\n",
       "      <th>2992</th>\n",
       "      <th>2993</th>\n",
       "      <th>2994</th>\n",
       "      <th>2995</th>\n",
       "      <th>2996</th>\n",
       "      <th>2997</th>\n",
       "      <th>2998</th>\n",
       "      <th>2999</th>\n",
       "      <th>identifier</th>\n",
       "      <th>label</th>\n",
       "    </tr>\n",
       "  </thead>\n",
       "  <tbody>\n",
       "    <tr>\n",
       "      <th>0</th>\n",
       "      <td>0.072198</td>\n",
       "      <td>0.276211</td>\n",
       "      <td>0.429221</td>\n",
       "      <td>0.327214</td>\n",
       "      <td>0.123201</td>\n",
       "      <td>0.097700</td>\n",
       "      <td>0.072198</td>\n",
       "      <td>0.021195</td>\n",
       "      <td>-0.004307</td>\n",
       "      <td>0.174205</td>\n",
       "      <td>...</td>\n",
       "      <td>0.276211</td>\n",
       "      <td>-0.259323</td>\n",
       "      <td>0.072198</td>\n",
       "      <td>1.882814</td>\n",
       "      <td>0.480224</td>\n",
       "      <td>-2.528968</td>\n",
       "      <td>0.097700</td>\n",
       "      <td>0.837247</td>\n",
       "      <td>female_1</td>\n",
       "      <td>Cylindrical</td>\n",
       "    </tr>\n",
       "    <tr>\n",
       "      <th>1</th>\n",
       "      <td>0.250710</td>\n",
       "      <td>0.301713</td>\n",
       "      <td>0.199706</td>\n",
       "      <td>0.378218</td>\n",
       "      <td>0.021195</td>\n",
       "      <td>-0.080812</td>\n",
       "      <td>-0.106313</td>\n",
       "      <td>0.021195</td>\n",
       "      <td>0.276211</td>\n",
       "      <td>0.072198</td>\n",
       "      <td>...</td>\n",
       "      <td>-1.304890</td>\n",
       "      <td>0.786244</td>\n",
       "      <td>0.786244</td>\n",
       "      <td>0.939254</td>\n",
       "      <td>1.270775</td>\n",
       "      <td>-0.616346</td>\n",
       "      <td>0.454723</td>\n",
       "      <td>0.021195</td>\n",
       "      <td>female_1</td>\n",
       "      <td>Cylindrical</td>\n",
       "    </tr>\n",
       "    <tr>\n",
       "      <th>2</th>\n",
       "      <td>0.123201</td>\n",
       "      <td>0.148703</td>\n",
       "      <td>0.148703</td>\n",
       "      <td>0.123201</td>\n",
       "      <td>-0.004307</td>\n",
       "      <td>-0.157317</td>\n",
       "      <td>-0.029808</td>\n",
       "      <td>0.174205</td>\n",
       "      <td>0.199706</td>\n",
       "      <td>0.250710</td>\n",
       "      <td>...</td>\n",
       "      <td>-0.233821</td>\n",
       "      <td>0.403719</td>\n",
       "      <td>0.046696</td>\n",
       "      <td>-0.080812</td>\n",
       "      <td>0.378218</td>\n",
       "      <td>-0.361330</td>\n",
       "      <td>0.505726</td>\n",
       "      <td>0.607732</td>\n",
       "      <td>female_1</td>\n",
       "      <td>Cylindrical</td>\n",
       "    </tr>\n",
       "    <tr>\n",
       "      <th>3</th>\n",
       "      <td>0.531228</td>\n",
       "      <td>-0.106313</td>\n",
       "      <td>-0.284825</td>\n",
       "      <td>-0.335828</td>\n",
       "      <td>-0.182818</td>\n",
       "      <td>0.123201</td>\n",
       "      <td>0.301713</td>\n",
       "      <td>0.352716</td>\n",
       "      <td>0.327214</td>\n",
       "      <td>-0.029808</td>\n",
       "      <td>...</td>\n",
       "      <td>0.709739</td>\n",
       "      <td>0.276211</td>\n",
       "      <td>-0.080812</td>\n",
       "      <td>0.123201</td>\n",
       "      <td>0.735241</td>\n",
       "      <td>1.270775</td>\n",
       "      <td>-0.769356</td>\n",
       "      <td>-1.687415</td>\n",
       "      <td>female_1</td>\n",
       "      <td>Cylindrical</td>\n",
       "    </tr>\n",
       "    <tr>\n",
       "      <th>4</th>\n",
       "      <td>-0.310326</td>\n",
       "      <td>-0.182818</td>\n",
       "      <td>0.276211</td>\n",
       "      <td>0.480224</td>\n",
       "      <td>0.352716</td>\n",
       "      <td>0.123201</td>\n",
       "      <td>0.123201</td>\n",
       "      <td>0.097700</td>\n",
       "      <td>-0.029808</td>\n",
       "      <td>-0.080812</td>\n",
       "      <td>...</td>\n",
       "      <td>-0.208320</td>\n",
       "      <td>0.429221</td>\n",
       "      <td>0.378218</td>\n",
       "      <td>0.633234</td>\n",
       "      <td>0.811746</td>\n",
       "      <td>0.403719</td>\n",
       "      <td>-0.182818</td>\n",
       "      <td>-0.412333</td>\n",
       "      <td>female_1</td>\n",
       "      <td>Cylindrical</td>\n",
       "    </tr>\n",
       "  </tbody>\n",
       "</table>\n",
       "<p>5 rows × 3002 columns</p>\n",
       "</div>"
      ],
      "text/plain": [
       "          0         1         2         3         4         5         6  \\\n",
       "0  0.072198  0.276211  0.429221  0.327214  0.123201  0.097700  0.072198   \n",
       "1  0.250710  0.301713  0.199706  0.378218  0.021195 -0.080812 -0.106313   \n",
       "2  0.123201  0.148703  0.148703  0.123201 -0.004307 -0.157317 -0.029808   \n",
       "3  0.531228 -0.106313 -0.284825 -0.335828 -0.182818  0.123201  0.301713   \n",
       "4 -0.310326 -0.182818  0.276211  0.480224  0.352716  0.123201  0.123201   \n",
       "\n",
       "          7         8         9  ...      2992      2993      2994      2995  \\\n",
       "0  0.021195 -0.004307  0.174205  ...  0.276211 -0.259323  0.072198  1.882814   \n",
       "1  0.021195  0.276211  0.072198  ... -1.304890  0.786244  0.786244  0.939254   \n",
       "2  0.174205  0.199706  0.250710  ... -0.233821  0.403719  0.046696 -0.080812   \n",
       "3  0.352716  0.327214 -0.029808  ...  0.709739  0.276211 -0.080812  0.123201   \n",
       "4  0.097700 -0.029808 -0.080812  ... -0.208320  0.429221  0.378218  0.633234   \n",
       "\n",
       "       2996      2997      2998      2999  identifier        label  \n",
       "0  0.480224 -2.528968  0.097700  0.837247    female_1  Cylindrical  \n",
       "1  1.270775 -0.616346  0.454723  0.021195    female_1  Cylindrical  \n",
       "2  0.378218 -0.361330  0.505726  0.607732    female_1  Cylindrical  \n",
       "3  0.735241  1.270775 -0.769356 -1.687415    female_1  Cylindrical  \n",
       "4  0.811746  0.403719 -0.182818 -0.412333    female_1  Cylindrical  \n",
       "\n",
       "[5 rows x 3002 columns]"
      ]
     },
     "execution_count": 5,
     "metadata": {},
     "output_type": "execute_result"
    }
   ],
   "source": [
    "\"\"\" Preprocess and standardize dataset into a single dataframe table\n",
    "\"\"\"\n",
    "\n",
    "DB_NAME = 'Database 1'\n",
    "dfs = []\n",
    "for fname in DATABASE[DB_NAME]: \n",
    "    tmp_data = scipy.io.loadmat(f'./data/{DB_NAME}/{fname}')\n",
    "    tmp_data = {k:v for k,v in tmp_data.items() if k in COLUMNS}\n",
    "    for c in COLUMNS:\n",
    "        tmp_dfx = pd.DataFrame(tmp_data[c])\n",
    "        tmp_dfx['identifier'] = fname\n",
    "        tmp_dfx['label'] = COL_MAPPINGS[c]\n",
    "        dfs.append(pd.DataFrame(tmp_dfx))\n",
    "\n",
    "dataset = pd.concat(dfs)\n",
    "print(\"Dimensions\", dataset.shape)\n",
    "dataset.head()\n"
   ]
  },
  {
   "cell_type": "code",
   "execution_count": 10,
   "metadata": {},
   "outputs": [
    {
     "name": "stdout",
     "output_type": "stream",
     "text": [
      "Dimension (900, 6002)\n"
     ]
    },
    {
     "data": {
      "text/html": [
       "<div>\n",
       "<style scoped>\n",
       "    .dataframe tbody tr th:only-of-type {\n",
       "        vertical-align: middle;\n",
       "    }\n",
       "\n",
       "    .dataframe tbody tr th {\n",
       "        vertical-align: top;\n",
       "    }\n",
       "\n",
       "    .dataframe thead th {\n",
       "        text-align: right;\n",
       "    }\n",
       "</style>\n",
       "<table border=\"1\" class=\"dataframe\">\n",
       "  <thead>\n",
       "    <tr style=\"text-align: right;\">\n",
       "      <th></th>\n",
       "      <th>0</th>\n",
       "      <th>1</th>\n",
       "      <th>2</th>\n",
       "      <th>3</th>\n",
       "      <th>4</th>\n",
       "      <th>5</th>\n",
       "      <th>6</th>\n",
       "      <th>7</th>\n",
       "      <th>8</th>\n",
       "      <th>9</th>\n",
       "      <th>...</th>\n",
       "      <th>5992</th>\n",
       "      <th>5993</th>\n",
       "      <th>5994</th>\n",
       "      <th>5995</th>\n",
       "      <th>5996</th>\n",
       "      <th>5997</th>\n",
       "      <th>5998</th>\n",
       "      <th>5999</th>\n",
       "      <th>identifier</th>\n",
       "      <th>label</th>\n",
       "    </tr>\n",
       "  </thead>\n",
       "  <tbody>\n",
       "    <tr>\n",
       "      <th>0</th>\n",
       "      <td>0.505726</td>\n",
       "      <td>0.531228</td>\n",
       "      <td>0.505726</td>\n",
       "      <td>0.021195</td>\n",
       "      <td>0.046696</td>\n",
       "      <td>-0.080812</td>\n",
       "      <td>0.021195</td>\n",
       "      <td>0.021195</td>\n",
       "      <td>0.123201</td>\n",
       "      <td>0.199706</td>\n",
       "      <td>...</td>\n",
       "      <td>0.227693</td>\n",
       "      <td>0.049139</td>\n",
       "      <td>-0.30797</td>\n",
       "      <td>-0.103908</td>\n",
       "      <td>0.100154</td>\n",
       "      <td>0.15117</td>\n",
       "      <td>-0.614063</td>\n",
       "      <td>-0.358985</td>\n",
       "      <td>female_3</td>\n",
       "      <td>Spherical</td>\n",
       "    </tr>\n",
       "    <tr>\n",
       "      <th>1</th>\n",
       "      <td>0.454723</td>\n",
       "      <td>0.174205</td>\n",
       "      <td>-0.182818</td>\n",
       "      <td>-0.386831</td>\n",
       "      <td>0.709739</td>\n",
       "      <td>0.633234</td>\n",
       "      <td>-0.029808</td>\n",
       "      <td>-0.20832</td>\n",
       "      <td>0.0977</td>\n",
       "      <td>0.582231</td>\n",
       "      <td>...</td>\n",
       "      <td>-0.333478</td>\n",
       "      <td>0.100154</td>\n",
       "      <td>0.71234</td>\n",
       "      <td>0.610309</td>\n",
       "      <td>0.559294</td>\n",
       "      <td>-0.410001</td>\n",
       "      <td>0.253201</td>\n",
       "      <td>-0.052892</td>\n",
       "      <td>female_3</td>\n",
       "      <td>Spherical</td>\n",
       "    </tr>\n",
       "    <tr>\n",
       "      <th>2</th>\n",
       "      <td>1.245273</td>\n",
       "      <td>0.123201</td>\n",
       "      <td>-2.273952</td>\n",
       "      <td>-2.936995</td>\n",
       "      <td>-0.335828</td>\n",
       "      <td>1.50029</td>\n",
       "      <td>1.398283</td>\n",
       "      <td>2.163332</td>\n",
       "      <td>0.403719</td>\n",
       "      <td>-0.131815</td>\n",
       "      <td>...</td>\n",
       "      <td>0.253201</td>\n",
       "      <td>-0.486524</td>\n",
       "      <td>-0.231447</td>\n",
       "      <td>-0.30797</td>\n",
       "      <td>0.100154</td>\n",
       "      <td>0.865386</td>\n",
       "      <td>0.635817</td>\n",
       "      <td>0.15117</td>\n",
       "      <td>female_3</td>\n",
       "      <td>Spherical</td>\n",
       "    </tr>\n",
       "    <tr>\n",
       "      <th>3</th>\n",
       "      <td>-0.080812</td>\n",
       "      <td>-0.182818</td>\n",
       "      <td>0.0977</td>\n",
       "      <td>0.123201</td>\n",
       "      <td>0.276211</td>\n",
       "      <td>0.352716</td>\n",
       "      <td>0.25071</td>\n",
       "      <td>0.199706</td>\n",
       "      <td>0.0977</td>\n",
       "      <td>-0.080812</td>\n",
       "      <td>...</td>\n",
       "      <td>0.227693</td>\n",
       "      <td>-0.818125</td>\n",
       "      <td>-0.052892</td>\n",
       "      <td>0.431755</td>\n",
       "      <td>0.457263</td>\n",
       "      <td>0.304216</td>\n",
       "      <td>0.125662</td>\n",
       "      <td>0.304216</td>\n",
       "      <td>female_3</td>\n",
       "      <td>Spherical</td>\n",
       "    </tr>\n",
       "    <tr>\n",
       "      <th>4</th>\n",
       "      <td>0.480224</td>\n",
       "      <td>0.021195</td>\n",
       "      <td>0.429221</td>\n",
       "      <td>0.021195</td>\n",
       "      <td>-0.004307</td>\n",
       "      <td>-0.106313</td>\n",
       "      <td>0.199706</td>\n",
       "      <td>0.199706</td>\n",
       "      <td>0.301713</td>\n",
       "      <td>0.276211</td>\n",
       "      <td>...</td>\n",
       "      <td>-0.103908</td>\n",
       "      <td>-1.124218</td>\n",
       "      <td>0.278708</td>\n",
       "      <td>0.94191</td>\n",
       "      <td>0.686832</td>\n",
       "      <td>0.023631</td>\n",
       "      <td>-1.124218</td>\n",
       "      <td>-0.333478</td>\n",
       "      <td>female_3</td>\n",
       "      <td>Spherical</td>\n",
       "    </tr>\n",
       "  </tbody>\n",
       "</table>\n",
       "<p>5 rows × 6002 columns</p>\n",
       "</div>"
      ],
      "text/plain": [
       "          0         1         2         3         4         5         6  \\\n",
       "0  0.505726  0.531228  0.505726  0.021195  0.046696 -0.080812  0.021195   \n",
       "1  0.454723  0.174205 -0.182818 -0.386831  0.709739  0.633234 -0.029808   \n",
       "2  1.245273  0.123201 -2.273952 -2.936995 -0.335828   1.50029  1.398283   \n",
       "3 -0.080812 -0.182818    0.0977  0.123201  0.276211  0.352716   0.25071   \n",
       "4  0.480224  0.021195  0.429221  0.021195 -0.004307 -0.106313  0.199706   \n",
       "\n",
       "          7         8         9  ...      5992      5993      5994      5995  \\\n",
       "0  0.021195  0.123201  0.199706  ...  0.227693  0.049139  -0.30797 -0.103908   \n",
       "1  -0.20832    0.0977  0.582231  ... -0.333478  0.100154   0.71234  0.610309   \n",
       "2  2.163332  0.403719 -0.131815  ...  0.253201 -0.486524 -0.231447  -0.30797   \n",
       "3  0.199706    0.0977 -0.080812  ...  0.227693 -0.818125 -0.052892  0.431755   \n",
       "4  0.199706  0.301713  0.276211  ... -0.103908 -1.124218  0.278708   0.94191   \n",
       "\n",
       "       5996      5997      5998      5999 identifier      label  \n",
       "0  0.100154   0.15117 -0.614063 -0.358985   female_3  Spherical  \n",
       "1  0.559294 -0.410001  0.253201 -0.052892   female_3  Spherical  \n",
       "2  0.100154  0.865386  0.635817   0.15117   female_3  Spherical  \n",
       "3  0.457263  0.304216  0.125662  0.304216   female_3  Spherical  \n",
       "4  0.686832  0.023631 -1.124218 -0.333478   female_3  Spherical  \n",
       "\n",
       "[5 rows x 6002 columns]"
      ]
     },
     "execution_count": 10,
     "metadata": {},
     "output_type": "execute_result"
    }
   ],
   "source": [
    "#combine coupled readouts\n",
    "new_dfs = []\n",
    "for lab in LABELS:\n",
    "    new_temp = dataset[dataset['label'] == lab].values\n",
    "    new_temp_comb = pd.DataFrame(np.concatenate((new_temp[:150,:3000],new_temp[150:,:3002]),axis=1))\n",
    "    new_dfs.append(new_temp_comb)\n",
    "    \n",
    "\n",
    "\n",
    "new_dataset = pd.concat(new_dfs)\n",
    "new_dataset.rename(columns={6001:'label', 6000:'identifier'}, inplace=True)\n",
    "print(\"Dimension\", new_dataset.shape)\n",
    "new_dataset.head()"
   ]
  },
  {
   "cell_type": "code",
   "execution_count": 11,
   "metadata": {},
   "outputs": [],
   "source": [
    "new_dataset.to_csv('C:/Users/INFO PLUS/Desktop/Stage CDTA/sEMG-signal-classification-master/new_dataset.csv', index=True)"
   ]
  },
  {
   "cell_type": "code",
   "execution_count": 7,
   "metadata": {},
   "outputs": [
    {
     "data": {
      "text/plain": [
       "dict_keys(['__header__', '__version__', '__globals__', 'cyl_ch1', 'cyl_ch2', 'hook_ch1', 'hook_ch2', 'tip_ch1', 'tip_ch2', 'palm_ch1', 'palm_ch2', 'spher_ch1', 'spher_ch2', 'lat_ch1', 'lat_ch2'])"
      ]
     },
     "execution_count": 7,
     "metadata": {},
     "output_type": "execute_result"
    }
   ],
   "source": [
    "dx = scipy.io.loadmat('./data/Database 2/male_day_1.mat')\n",
    "dx.keys()"
   ]
  },
  {
   "cell_type": "code",
   "execution_count": 8,
   "metadata": {},
   "outputs": [
    {
     "data": {
      "text/plain": [
       "' Apply absolute value filter to set all values >0\\n'"
      ]
     },
     "execution_count": 8,
     "metadata": {},
     "output_type": "execute_result"
    }
   ],
   "source": [
    "\"\"\" Apply absolute value filter to set all values >0\n",
    "\"\"\"\n",
    "##emg_abs = abs(hook_df)\n",
    "#plt.plot((emg_abs.to_numpy()[5,:]))"
   ]
  },
  {
   "cell_type": "code",
   "execution_count": 14,
   "metadata": {},
   "outputs": [],
   "source": [
    "from cgitb import Hook\n",
    "\n",
    "\n",
    "def abs_val_filter(data):\n",
    "    \"\"\" Apply an absolute value filter to a DataFrame\n",
    "    \"\"\"\n",
    "    return abs(data.copy())\n",
    "\n",
    "def butterworth_low_pass_filter(data, \n",
    "                                frequency=500, \n",
    "                                lp_filter=5,\n",
    "                                order=4):\n",
    "    \"\"\"\n",
    "    Create a low pass filter to eliminate noise and smooth EMG data \n",
    "    \n",
    "    The data were collected at a sampling rate of 500 Hz, \n",
    "    using as a programming kernel the National Instruments (NI) Labview. \n",
    "    The signals were band-pass filtered using a Butterworth Band Pass filter \n",
    "    with low and high cutoff at 15Hz and 500Hz respectively and a notch filter at 50Hz \n",
    "    to eliminate line interference artifacts.\n",
    "    \"\"\"\n",
    "    lp_filter = lp_filter/(frequency/2)\n",
    "\n",
    "    # Create a lowpass butterworth signal \n",
    "    B, A = scipy.signal.butter(order, \n",
    "                               lp_filter, \n",
    "                               btype='lowpass')\n",
    "\n",
    "    # Apply the lowpass signal filter to EMG data\n",
    "    smooth_emg = scipy.signal.filtfilt(B, \n",
    "                                       A, \n",
    "                                       data)\n",
    "    return smooth_emg\n",
    "\n",
    "\n",
    "def holt_smoothing(data,\n",
    "                  s_level = 0.5,\n",
    "                  s_slope = 0.1):\n",
    "    smoothed = Hook(data[0]).fit(smoothing_level=s_level, smoothing_slope=s_slope).fittedvalues[:]\n",
    "    print(data[0])\n",
    "    print(smoothed)\n",
    "    return smoothed"
   ]
  },
  {
   "cell_type": "code",
   "execution_count": 15,
   "metadata": {},
   "outputs": [
    {
     "data": {
      "text/plain": [
       "Index([           0,            1,            2,            3,            4,\n",
       "                  5,            6,            7,            8,            9,\n",
       "       ...\n",
       "               5992,         5993,         5994,         5995,         5996,\n",
       "               5997,         5998,         5999, 'identifier',      'label'],\n",
       "      dtype='object', length=6002)"
      ]
     },
     "execution_count": 15,
     "metadata": {},
     "output_type": "execute_result"
    }
   ],
   "source": [
    "new_dataset.columns"
   ]
  },
  {
   "cell_type": "code",
   "execution_count": 16,
   "metadata": {},
   "outputs": [],
   "source": [
    "df_features = new_dataset.iloc[:,:6000].copy()\n",
    "df_labels = new_dataset.iloc[:, 6001]\n",
    "df_features = abs_val_filter(df_features)"
   ]
  },
  {
   "cell_type": "code",
   "execution_count": 17,
   "metadata": {},
   "outputs": [
    {
     "data": {
      "text/plain": [
       "[<matplotlib.lines.Line2D at 0x220a03c4fd0>]"
      ]
     },
     "execution_count": 17,
     "metadata": {},
     "output_type": "execute_result"
    },
    {
     "data": {
      "image/png": "[encoded data removed]",
      "text/plain": [
       "<Figure size 360x216 with 1 Axes>"
      ]
     },
     "metadata": {
      "needs_background": "light"
     },
     "output_type": "display_data"
    }
   ],
   "source": [
    "plt.rcParams[\"figure.figsize\"] = (5,3)\n",
    "plt.plot(df_features.to_numpy()[:-5,0])"
   ]
  },
  {
   "cell_type": "code",
   "execution_count": 18,
   "metadata": {},
   "outputs": [
    {
     "data": {
      "text/plain": [
       "[<matplotlib.lines.Line2D at 0x220a2eed370>]"
      ]
     },
     "execution_count": 18,
     "metadata": {},
     "output_type": "execute_result"
    },
    {
     "data": {
      "image/png": "[encoded data removed]",
      "text/plain": [
       "<Figure size 360x216 with 1 Axes>"
      ]
     },
     "metadata": {
      "needs_background": "light"
     },
     "output_type": "display_data"
    }
   ],
   "source": [
    "smoothed_emg_df = butterworth_low_pass_filter(df_features.to_numpy(),\n",
    "                                             frequency=5000,\n",
    "                                             lp_filter=25)\n",
    "plt.plot(df_features.to_numpy()[0])\n",
    "#plt.plot(smoothed_emg_df[0])"
   ]
  },
  {
   "cell_type": "code",
   "execution_count": 19,
   "metadata": {},
   "outputs": [
    {
     "data": {
      "text/plain": [
       "[<matplotlib.lines.Line2D at 0x220bc411100>]"
      ]
     },
     "execution_count": 19,
     "metadata": {},
     "output_type": "execute_result"
    },
    {
     "data": {
      "image/png": "[encoded data removed]",
      "text/plain": [
       "<Figure size 360x216 with 1 Axes>"
      ]
     },
     "metadata": {
      "needs_background": "light"
     },
     "output_type": "display_data"
    }
   ],
   "source": [
    "plt.plot(smoothed_emg_df[0])"
   ]
  },
  {
   "cell_type": "code",
   "execution_count": 20,
   "metadata": {},
   "outputs": [],
   "source": [
    "pca = PCA(n_components=2).fit(smoothed_emg_df.T)\n",
    "transformed = pca.components_.T"
   ]
  },
  {
   "cell_type": "code",
   "execution_count": 21,
   "metadata": {},
   "outputs": [],
   "source": [
    "\"\"\" Split EMG dataset into training and testing\n",
    "\"\"\"\n",
    "\n",
    "pca = PCA(n_components=2).fit(smoothed_emg_df.T)\n",
    "transformed = pca.components_.T\n",
    "X_train, X_test, y_train, y_test = train_test_split(transformed, \n",
    "                                                    df_labels, \n",
    "                                                    test_size=0.2, \n",
    "                                                    random_state=5)"
   ]
  },
  {
   "cell_type": "code",
   "execution_count": 17,
   "metadata": {},
   "outputs": [
    {
     "data": {
      "text/plain": [
       "False    0.544444\n",
       "True     0.455556\n",
       "Name: label, dtype: float64"
      ]
     },
     "execution_count": 17,
     "metadata": {},
     "output_type": "execute_result"
    }
   ],
   "source": [
    "\"\"\" SVM Classification Results\n",
    "\"\"\"\n",
    "\n",
    "p = make_pipeline(StandardScaler(), SVC())\n",
    "clf = GridSearchCV(estimator=p, param_grid={'svc__C': np.logspace(-3, 2, 6), \n",
    "                                                     'svc__kernel': ['rbf', 'linear'],\n",
    "                                                     'svc__degree': [1,2],\n",
    "                                                     'svc__gamma': np.logspace(-3, 2, 6)\n",
    "                                                    }, \n",
    "                                                      cv=5, refit=True, scoring='accuracy', return_train_score=True)\n",
    "clf.fit(X_train, y_train)\n",
    "\n",
    "svm_labels = clf.predict(X_test)\n",
    "\n",
    "(svm_labels == y_test).value_counts()/len(X_test)"
   ]
  },
  {
   "cell_type": "code",
   "execution_count": 181,
   "metadata": {},
   "outputs": [
    {
     "data": {
      "text/plain": [
       "Pipeline(steps=[('standardscaler', StandardScaler()),\n",
       "                ('svc', SVC(C=10.0, degree=1, gamma=0.1))])"
      ]
     },
     "execution_count": 181,
     "metadata": {},
     "output_type": "execute_result"
    }
   ],
   "source": [
    "clf.best_estimator_"
   ]
  },
  {
   "cell_type": "code",
   "execution_count": 22,
   "metadata": {},
   "outputs": [
    {
     "data": {
      "image/png": "[encoded data removed]",
      "text/plain": [
       "<Figure size 720x720 with 4 Axes>"
      ]
     },
     "metadata": {},
     "output_type": "display_data"
    }
   ],
   "source": [
    "# we create an instance of SVM and fit out data. We do not scale our\n",
    "# data since we want to plot the support vectors\n",
    "C = 1.0  # SVM regularization parameter\n",
    "from sklearn import preprocessing\n",
    "le = preprocessing.LabelEncoder()\n",
    "le.fit(y_train)\n",
    "y_train_alt = le.transform(y_train)\n",
    "h = .02 \n",
    "\n",
    "svc1 = SVC(kernel='linear', C=1).fit(X_train, y_train_alt)\n",
    "svc2 = SVC(kernel='linear', C=5).fit(X_train, y_train_alt)\n",
    "svc3 = SVC(kernel='linear', C=10).fit(X_train, y_train_alt)\n",
    "svc4 = SVC(kernel='linear', C=15).fit(X_train, y_train_alt)\n",
    "\n",
    "# create a mesh to plot in\n",
    "x_min, x_max = X_train[:, 0].min() - 1, X_train[:, 0].max() + 1\n",
    "y_min, y_max = X_train[:, 1].min() - 1, X_train[:, 1].max() + 1\n",
    "\n",
    "x_min /= 5\n",
    "x_max /= 5\n",
    "y_min /= 5\n",
    "y_max /= 5\n",
    "\n",
    "xx, yy = np.meshgrid(np.arange(x_min, x_max, h),\n",
    "                     np.arange(y_min, y_max, h))\n",
    "\n",
    "# title for the plots\n",
    "titles = ['SVC, C=1',\n",
    "          'SVC, C=5',\n",
    "          'SVC, C=10',\n",
    "          'SVC, C=15']\n",
    "\n",
    "plt.rcParams[\"figure.figsize\"] = (10,10)\n",
    "\n",
    "for i, clf in enumerate((svc1, svc2, svc3, svc4)):\n",
    "    # Plot the decision boundary. For that, we will assign a color to each\n",
    "    # point in the mesh [x_min, x_max]x[y_min, y_max].\n",
    "    plt.subplot(2, 2, i + 1)\n",
    "    plt.subplots_adjust(wspace=0.4, hspace=0.4)\n",
    "\n",
    "    Z = clf.predict(np.c_[xx.ravel(), yy.ravel()])\n",
    "\n",
    "    # Put the result into a color plot\n",
    "    Z = Z.reshape(xx.shape)\n",
    "    plt.contourf(xx, yy, Z, cmap=plt.cm.coolwarm, alpha=0.8)\n",
    "\n",
    "    # Plot also the training points\n",
    "    plt.scatter(X_train[:, 0], \n",
    "                X_train[:, 1], \n",
    "                c=y_train_alt, \n",
    "                cmap=plt.cm.coolwarm)\n",
    "    plt.xlabel('PCA 1')\n",
    "    plt.ylabel('PCA 2')\n",
    "    plt.xlim(xx.min(), xx.max())\n",
    "    plt.ylim(yy.min(), yy.max())\n",
    "    plt.xticks(())\n",
    "    plt.yticks(())\n",
    "    plt.title(titles[i])\n",
    "\n",
    "plt.show()"
   ]
  },
  {
   "cell_type": "code",
   "execution_count": 359,
   "metadata": {},
   "outputs": [
    {
     "name": "stdout",
     "output_type": "stream",
     "text": [
      "[0.28888888888888886, 0.4111111111111111, 0.4222222222222223, 0.47777777777777775, 0.4444444444444444, 0.4111111111111111, 0.47777777777777775, 0.5555555555555556, 0.4111111111111111, 0.47777777777777775]\n",
      "K-Means stddev 0.06577177149754997\n",
      "K-Means best 0.5555555555555556\n"
     ]
    }
   ],
   "source": [
    "\"\"\" KMeans unsupervised learning\n",
    "\"\"\"\n",
    "\n",
    "accs = []\n",
    "\n",
    "for i in range(10):\n",
    "    pca = PCA(n_components=2).fit(smoothed_emg_df.T)\n",
    "    transformed = pca.components_.T\n",
    "    X_train, X_test, y_train, y_test = train_test_split(transformed, \n",
    "                                                        df_labels, \n",
    "                                                        test_size=0.2, \n",
    "                                                        random_state=i)\n",
    "    kmeans = KMeans(n_clusters=len(LABELS)).fit(X_train)\n",
    "\n",
    "    kmeans.labels_\n",
    "    predicted_labels = kmeans.predict(X_test)\n",
    "    predicted_labels\n",
    "\n",
    "    acc = 1 - (sum([abs(i[0] - i[1]) for i in zip(sorted(np.bincount(le.transform(y_test))), \n",
    "                                       sorted(np.bincount(predicted_labels)))])/len(y_test))\n",
    "    accs.append(acc)\n",
    "    \n",
    "\n",
    "print(accs)\n",
    "print(\"K-Means stddev\",np.std(accs))\n",
    "print(\"K-Means best\", np.max(accs))"
   ]
  },
  {
   "cell_type": "code",
   "execution_count": 230,
   "metadata": {},
   "outputs": [
    {
     "data": {
      "image/png": "[encoded data removed]",
      "text/plain": [
       "<matplotlib.figure.Figure at 0x21285d49908>"
      ]
     },
     "metadata": {},
     "output_type": "display_data"
    }
   ],
   "source": [
    "\"\"\" Code taken from https://scikit-learn.org/stable/auto_examples/cluster/plot_kmeans_digits.html\n",
    "\"\"\"\n",
    "\n",
    "# Step size of the mesh. Decrease to increase the quality of the VQ.\n",
    "h = .02     # point in the mesh [x_min, x_max]x[y_min, y_max].\n",
    "\n",
    "reduced_data = transformed\n",
    "\n",
    "# Plot the decision boundary. For that, we will assign a color to each\n",
    "x_min, x_max = reduced_data[:, 0].min() - 1, reduced_data[:, 0].max() + 1\n",
    "y_min, y_max = reduced_data[:, 1].min() - 1, reduced_data[:, 1].max() + 1\n",
    "\n",
    "x_min /= 5\n",
    "x_max /= 5\n",
    "y_min /= 5\n",
    "y_max /= 5\n",
    "\n",
    "xx, yy = np.meshgrid(np.arange(x_min, x_max, h), np.arange(y_min, y_max, h))\n",
    "\n",
    "# Obtain labels for each point in mesh. Use last trained model.\n",
    "Z = kmeans.predict(np.c_[xx.ravel(), yy.ravel()])\n",
    "\n",
    "# Put the result into a color plot\n",
    "Z = Z.reshape(xx.shape)\n",
    "plt.figure(1)\n",
    "plt.clf()\n",
    "plt.imshow(Z, interpolation='nearest',\n",
    "           extent=(xx.min(), xx.max(), yy.min(), yy.max()),\n",
    "           cmap=plt.cm.Paired,\n",
    "           aspect='auto', origin='lower')\n",
    "\n",
    "plt.plot(reduced_data[:, 0], reduced_data[:, 1], 'k.', markersize=2)\n",
    "# Plot the centroids as a white X\n",
    "centroids = kmeans.cluster_centers_\n",
    "plt.scatter(centroids[:, 0], centroids[:, 1],\n",
    "            marker='x', s=169, linewidths=3,\n",
    "            color='w', zorder=10)\n",
    "plt.title('K-means clustering on the sEMG dataset')\n",
    "plt.xlim(x_min, x_max)\n",
    "plt.ylim(y_min, y_max)\n",
    "plt.xticks(())\n",
    "plt.yticks(())\n",
    "plt.show()"
   ]
  },
  {
   "cell_type": "code",
   "execution_count": 361,
   "metadata": {},
   "outputs": [
    {
     "name": "stdout",
     "output_type": "stream",
     "text": [
      "[0.5777777777777777, 0.8333333333333334, 0.6222222222222222, 0.7, 0.4666666666666667, 0.7444444444444445, 0.6555555555555556, 0.8555555555555556, 0.5, 0.7888888888888889]\n",
      "Standard dev 0.12756504029777455\n",
      "Best GM accuracy 0.8555555555555556\n"
     ]
    },
    {
     "data": {
      "image/png": "[encoded data removed]",
      "text/plain": [
       "<matplotlib.figure.Figure at 0x212a5e0b6d8>"
      ]
     },
     "metadata": {},
     "output_type": "display_data"
    }
   ],
   "source": [
    "import itertools\n",
    "color_iter = itertools.cycle(['navy', 'c', 'cornflowerblue', 'gold',\n",
    "                              'darkorange'])\n",
    "from scipy import linalg\n",
    "import matplotlib as mpl\n",
    "def plot_results(X, Y_, means, covariances, index, title):\n",
    "    plt.rcParams[\"figure.figsize\"] = (10,10)\n",
    "    splot = plt.subplot(2, 1, 1 + index)\n",
    "    for i, (mean, covar, color) in enumerate(zip(\n",
    "            means, covariances, color_iter)):\n",
    "        v, w = linalg.eigh(covar)\n",
    "        v = 2. * np.sqrt(2.) * np.sqrt(v)\n",
    "        u = w[0] / linalg.norm(w[0])\n",
    "        # as the DP will not use every component it has access to\n",
    "        # unless it needs it, we shouldn't plot the redundant\n",
    "        # components.\n",
    "        if not np.any(Y_ == i):\n",
    "            continue\n",
    "        plt.scatter(X[Y_ == i, 0], X[Y_ == i, 1], .8, color=color)\n",
    "\n",
    "        # Plot an ellipse to show the Gaussian component\n",
    "        angle = np.arctan(u[1] / u[0])\n",
    "        angle = 180. * angle / np.pi  # convert to degrees\n",
    "        ell = mpl.patches.Ellipse(mean, v[0], v[1], 180. + angle, color=color)\n",
    "        ell.set_clip_box(splot.bbox)\n",
    "        ell.set_alpha(0.5)\n",
    "        splot.add_artist(ell)\n",
    "\n",
    "    plt.xlim(-.05, 0.14)\n",
    "    plt.ylim(-.15, 0.1)\n",
    "    plt.xticks(())\n",
    "    plt.yticks(())\n",
    "    plt.title(title)\n",
    "    \n",
    "\"\"\" GM Classification Results\n",
    "\"\"\"\n",
    "import math\n",
    "from sklearn.mixture import GaussianMixture as GMM\n",
    "\n",
    "accs =[]\n",
    "for i in range(10):\n",
    "    pca = PCA(n_components=3).fit(smoothed_emg_df.T)\n",
    "    transformed = pca.components_.T\n",
    "    X_train, X_test, y_train, y_test = train_test_split(transformed, \n",
    "                                                        df_labels, \n",
    "                                                        test_size=0.2, \n",
    "                                                        random_state=i)\n",
    "\n",
    "    gmm = GMM(n_components=6).fit(X_train)\n",
    "    labels = gmm.predict(X_test)\n",
    "    acc = 1 - (sum([abs(i[0] - i[1]) for i in zip(sorted(np.bincount(le.transform(y_test))), \n",
    "                                       sorted(np.bincount(labels)))])/len(y_test))\n",
    "    accs.append(acc)\n",
    "\n",
    "plot_results(X_train, gmm.predict(X_train), gmm.means_, gmm.covariances_, 0, 'sEMG Hand Gesture Gaussian Mixture Classification')\n",
    "print(accs)\n",
    "print(\"Standard dev\", np.std(accs))\n",
    "print(\"Best GM accuracy\", np.max(accs))"
   ]
  },
  {
   "cell_type": "code",
   "execution_count": 362,
   "metadata": {},
   "outputs": [
    {
     "data": {
      "image/png": "[encoded data removed]",
      "text/plain": [
       "<matplotlib.figure.Figure at 0x21285d099e8>"
      ]
     },
     "metadata": {},
     "output_type": "display_data"
    }
   ],
   "source": [
    "plot_results(X_test, gmm.predict(X_test), gmm.means_, gmm.covariances_, 0, 'sEMG Hand Gesture Gaussian Mixture Classification')"
   ]
  },
  {
   "cell_type": "code",
   "execution_count": 104,
   "metadata": {},
   "outputs": [
    {
     "data": {
      "text/plain": [
       "{24: 7, 25: 13, 31: 23, 32: 42, 36: 57}"
      ]
     },
     "execution_count": 104,
     "metadata": {},
     "output_type": "execute_result"
    }
   ],
   "source": [
    "dict(zip(sorted(np.bincount(le.transform(y_test))), \n",
    "                                   sorted(np.bincount(labels))))"
   ]
  },
  {
   "cell_type": "code",
   "execution_count": 340,
   "metadata": {},
   "outputs": [
    {
     "name": "stdout",
     "output_type": "stream",
     "text": [
      "Accuracy [0.5111111111111111, 0.5333333333333333, 0.5111111111111111, 0.5277777777777778, 0.45555555555555555, 0.5944444444444444, 0.5555555555555556, 0.55, 0.5444444444444444, 0.5222222222222223]\n",
      "0.03426926780731364\n",
      "Best accuracy 0.5944444444444444\n"
     ]
    }
   ],
   "source": [
    "\"\"\" NB Classification Rules\n",
    "\"\"\"\n",
    "\n",
    "accs = []\n",
    "\n",
    "for i in range(10):\n",
    "    pca = PCA(n_components=2).fit(smoothed_emg_df.T)\n",
    "    transformed = pca.components_.T\n",
    "    X_train, X_test, y_train, y_test = train_test_split(transformed, \n",
    "                                                        df_labels, \n",
    "                                                        test_size=0.2, \n",
    "                                                        random_state=i)\n",
    "\n",
    "    gnb = make_pipeline(StandardScaler(),\n",
    "                        GaussianNB())\n",
    "    y_pred = gnb.fit(X_train, y_train).predict(X_test)\n",
    "    accs.append((y_test != y_pred).sum() / X_test.shape[0])\n",
    "\n",
    "#print(\"Number of mislabeled points out of a total %d points : %d\" % (X_test.shape[0], (y_test != y_pred).sum()))\n",
    "print(\"Accuracy\", accs)\n",
    "print(np.std(accs))\n",
    "print(\"Best accuracy\", np.max(accs))"
   ]
  }
 ],
 "metadata": {
  "kernelspec": {
   "display_name": "Python 3.8.8 ('base')",
   "language": "python",
   "name": "python3"
  },
  "language_info": {
   "codemirror_mode": {
    "name": "ipython",
    "version": 3
   },
   "file_extension": ".py",
   "mimetype": "text/x-python",
   "name": "python",
   "nbconvert_exporter": "python",
   "pygments_lexer": "ipython3",
   "version": "3.8.8"
  },
  "vscode": {
   "interpreter": {
    "hash": "6f5583cf1d9466b5c27e75c89cc6b383bed5736d6b16c51c8074d8690011a952"
   }
  }
 },
 "nbformat": 4,
 "nbformat_minor": 2
}
