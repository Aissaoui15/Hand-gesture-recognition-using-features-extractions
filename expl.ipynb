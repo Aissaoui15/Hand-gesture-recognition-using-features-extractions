{
 "cells": [
  {
   "cell_type": "code",
   "execution_count": 1,
   "metadata": {},
   "outputs": [],
   "source": [
    "import numpy as np\n",
    "import matplotlib.pyplot as plt\n",
    "import pandas as pd"
   ]
  },
  {
   "cell_type": "code",
   "execution_count": 2,
   "metadata": {},
   "outputs": [],
   "source": [
    "a = np.random.randn(40, 20)"
   ]
  },
  {
   "cell_type": "code",
   "execution_count": 3,
   "metadata": {},
   "outputs": [],
   "source": [
    "b= abs(a.copy())"
   ]
  },
  {
   "cell_type": "code",
   "execution_count": 4,
   "metadata": {},
   "outputs": [
    {
     "data": {
      "text/plain": [
       "800"
      ]
     },
     "execution_count": 4,
     "metadata": {},
     "output_type": "execute_result"
    }
   ],
   "source": [
    "b.size"
   ]
  },
  {
   "cell_type": "code",
   "execution_count": 5,
   "metadata": {},
   "outputs": [],
   "source": [
    "import pywt"
   ]
  },
  {
   "cell_type": "code",
   "execution_count": 6,
   "metadata": {},
   "outputs": [],
   "source": [
    "def next_power_of_2(x):\n",
    "    return 1 if x == 0 else 2 ** (x - 1).bit_length()"
   ]
  },
  {
   "cell_type": "code",
   "execution_count": 12,
   "metadata": {},
   "outputs": [],
   "source": [
    "fs = 2000"
   ]
  },
  {
   "cell_type": "code",
   "execution_count": 7,
   "metadata": {},
   "outputs": [],
   "source": [
    "def spectrum(signal, fs):\n",
    "    i=0\n",
    "    for i in range(400):\n",
    "        m = len(signal)\n",
    "        n = next_power_of_2(m)\n",
    "        y = np.fft.fft(signal, n)\n",
    "        yh = y[0:int(n / 2 - 1)]\n",
    "        fh = (fs / n) * np.arange(0, n / 2 - 1, 1)\n",
    "        power = np.real(yh * np.conj(yh) / n)\n",
    "\n",
    "    return fh, power\n"
   ]
  },
  {
   "cell_type": "code",
   "execution_count": 8,
   "metadata": {},
   "outputs": [],
   "source": [
    "def frequency_ratio(frequency, power):\n",
    "    power_low = power[(frequency >= 30) & (frequency <= 250)]\n",
    "    power_high = power[(frequency > 250) & (frequency <= 500)]\n",
    "    ULC = np.sum(power_low)\n",
    "    UHC = np.sum(power_high)\n",
    "\n",
    "    return ULC / UHC\n"
   ]
  },
  {
   "cell_type": "code",
   "execution_count": null,
   "metadata": {},
   "outputs": [],
   "source": [
    "frequency, power = spectrum(b, fs)\n",
    "fr= (frequency_ratio(frequency, power))"
   ]
  },
  {
   "cell_type": "code",
   "execution_count": 10,
   "metadata": {},
   "outputs": [
    {
     "name": "stdout",
     "output_type": "stream",
     "text": [
      "40\n"
     ]
    }
   ],
   "source": [
    "line = b.shape[0]\n",
    "col = b.shape[1]\n",
    "print(line)"
   ]
  },
  {
   "cell_type": "code",
   "execution_count": 111,
   "metadata": {},
   "outputs": [
    {
     "data": {
      "text/plain": [
       "array([1.12061244, 0.54874338, 0.99645194, ..., 0.16464254, 0.09791519,\n",
       "       0.05695073])"
      ]
     },
     "execution_count": 111,
     "metadata": {},
     "output_type": "execute_result"
    }
   ],
   "source": [
    "b[0]"
   ]
  },
  {
   "cell_type": "code",
   "execution_count": 23,
   "metadata": {},
   "outputs": [
    {
     "name": "stdout",
     "output_type": "stream",
     "text": [
      "[[3.709], [5.017], [4.969], [14.139], [3.535], [18.995], [2.782], [2.877], [3.01], [2.349]]\n"
     ]
    }
   ],
   "source": [
    "i=0\n",
    "fr=[]\n",
    "for i in range(10):\n",
    "    fr.append([])\n",
    "\n",
    "    frequency, power = spectrum(b[i,:], fs)\n",
    "    fr[i].append(np.round((frequency_ratio(frequency, power)),3))\n",
    "print(fr)"
   ]
  },
  {
   "cell_type": "code",
   "execution_count": 20,
   "metadata": {},
   "outputs": [],
   "source": [
    "fr=np.array(fr)"
   ]
  },
  {
   "cell_type": "code",
   "execution_count": 21,
   "metadata": {},
   "outputs": [
    {
     "data": {
      "text/plain": [
       "(10, 20)"
      ]
     },
     "execution_count": 21,
     "metadata": {},
     "output_type": "execute_result"
    }
   ],
   "source": [
    "fr.shape"
   ]
  },
  {
   "cell_type": "code",
   "execution_count": 24,
   "metadata": {},
   "outputs": [
    {
     "name": "stdout",
     "output_type": "stream",
     "text": [
      "5.017212966937505\n"
     ]
    }
   ],
   "source": [
    "\n",
    "frequency, power = spectrum(b[1], fs)\n",
    "fr = (frequency_ratio(frequency, power))  # Frequency ratio\n",
    "print(fr)"
   ]
  }
 ],
 "metadata": {
  "kernelspec": {
   "display_name": "Python 3.8.8 ('base')",
   "language": "python",
   "name": "python3"
  },
  "language_info": {
   "codemirror_mode": {
    "name": "ipython",
    "version": 3
   },
   "file_extension": ".py",
   "mimetype": "text/x-python",
   "name": "python",
   "nbconvert_exporter": "python",
   "pygments_lexer": "ipython3",
   "version": "3.8.8"
  },
  "orig_nbformat": 4,
  "vscode": {
   "interpreter": {
    "hash": "6f5583cf1d9466b5c27e75c89cc6b383bed5736d6b16c51c8074d8690011a952"
   }
  }
 },
 "nbformat": 4,
 "nbformat_minor": 2
}
